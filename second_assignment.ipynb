{
  "nbformat": 4,
  "nbformat_minor": 0,
  "metadata": {
    "colab": {
      "provenance": []
    },
    "kernelspec": {
      "name": "python3",
      "display_name": "Python 3"
    },
    "language_info": {
      "name": "python"
    }
  },
  "cells": [
    {
      "cell_type": "markdown",
      "source": [
        "1. What are data structures, and why are they important?\n",
        "    -> Data structures are way of organizing and storing data in computer so it can be help to used efficiently.\n",
        "    -> They help to programmers manage and process in the most optimal way.\n",
        "\n",
        "2./ Explain the difference between mutable and immutable data types with examples?\n",
        "    ->Mutable means: The data inside the object it can be updated, added, or removed without creating a new object.\n",
        "- example:\n",
        "my_list => [\"appel\",\"banana\",\"kiwi\"]\n",
        "        => my_lsit[0]= \"mango\"\n",
        "        => print(my_lsit)\n",
        "output is = [\"mango\",\"banana\",\"kiwi\"]\n",
        "\n",
        "    -> Immutable means: The data inside the object it can not be changeable, updated, added, or removed.\n",
        "- example:\n",
        "\n",
        "str1 => \"hello\"\n",
        "    => str1[0]=\"g\"\n",
        "    =>print(str1)\n",
        "\n",
        "output: 'str' object does not support item assignment\n",
        "\n",
        "3. What are the main differences between lists and tuples in Python?\n",
        "  - Mutability:\n",
        "    -> In LIST we can change,add or remove the data of list but in tuple we can't change,add or remove any data of tuple .\n",
        "  - speed:\n",
        "    -> list are slower than the tuple and tuple is working more efficiently and faster than the list because tuple is fixed.\n",
        "\n",
        "4. Describe how dictionaries store data.\n",
        "    -> Dictionaries store data in key-value pairs. Each key maps to a value using a hashing mechanism.\n",
        "\n",
        "5. Why might you use a set instead of a list in Python?\n",
        "\n",
        "    -> Sets automatically remove duplicates and offer faster membership testing compared to lists.\n",
        "6. What is a string in Python, and how is it different from a list?\n",
        "\n",
        "    -> A string is a sequence of characters (immutable), while a list is a collection of elements (mutable).\n",
        "- Example: string = \"hello\" vs list = ['h', 'e', 'l', 'l', 'o']\n",
        "\n",
        "\n",
        "7. How do tuples ensure data integrity in Python?\n",
        "\n",
        "    -> Tuples are immutable, which prevents accidental modification of the data they contain, preserving data integrity.\n",
        "\n",
        "\n",
        "8. What is a hash table, and how does it relate to dictionaries in Python?\n",
        "\n",
        "    - A hash table is a data structure that maps keys to values using a hash function.\n",
        "    - Python dictionaries are implemented using hash tables.\n",
        "\n",
        "9. Can lists contain different data types in Python?\n",
        "    - Yes, lists in Python can contain mixed data types, such as [1, \"hello\", 3.14, True].\n",
        "\n",
        "10. Explain why strings are immutable in Python.\n",
        "\n",
        "    - Strings are immutable for performance and security reasons. Each modification creates a new string object.\n",
        "  \n",
        "11. What advantages do dictionaries offer over lists for certain tasks?\n",
        "\n",
        "    - Dictionaries provide fast lookup by keys, making them better for tasks involving labeled or associated data.\n",
        "\n",
        "12.  Describe a scenario where using a tuple would be preferable over a list.\n",
        "\n",
        "    - When you need to ensure data doesn't change, like representing coordinates or fixed configuration values.\n",
        "\n",
        "13. How do sets handle duplicate values in Python?\n",
        "    - Sets automatically discard duplicate elements. Example: set([1, 2, 2]) results in {1, 2}.\n",
        "\n",
        "14. How does the “in” keyword work differently for lists and dictionaries?\n",
        "\n",
        "    - In lists: checks if a value is present.\n",
        "    - In dictionaries: checks if a key is present.\n",
        "\n",
        "15. Can you modify the elements of a tuple? Explain why or why not.\n",
        "\n",
        "    - No, tuples are immutable. You cannot modify elements once the tuple is created.\n",
        "\n",
        "16.  What is a nested dictionary, and give an example of its use case.\n",
        "\n",
        "    - A nested dictionary is a dictionary within another dictionary.\n",
        "    - Example: students = {\"John\": {\"age\": 20, \"grade\": \"A\"}}\n",
        "\n",
        "17. Describe the time complexity of accessing elements in a dictionary.\n",
        "\n",
        "    - Average time complexity is O(1) due to hashing.\n",
        "\n",
        "18. In what situations are lists preferred over dictionaries?\n",
        "\n",
        "    - When order matters, or when dealing with a simple sequence of elements without key-value mapping.\n",
        "\n",
        "19. Why are dictionaries considered unordered, and how does that affect data retrieval?\n",
        "\n",
        "    - Dictionaries used to be unordered (before Python 3.7). Now they preserve insertion order but conceptually they are key-based and not position-based.\n",
        "\n",
        "20. Explain the difference between a list and a dictionary in terms of data retrieval.\n",
        "\n",
        "    - List uses index-based retrieval (position), while dictionary uses key-based retrieval (name or label)."
      ],
      "metadata": {
        "id": "L7vvXnhWKj73"
      }
    },
    {
      "cell_type": "code",
      "source": [
        "#1.Write a code to create a string with your name and print it.\n",
        "str1= \"ADITYA\"\n",
        "print(str1)\n"
      ],
      "metadata": {
        "colab": {
          "base_uri": "https://localhost:8080/"
        },
        "id": "eiXxtn1RrGxr",
        "outputId": "dc2b831b-5ccd-44b1-9aa9-54f409ec2b67"
      },
      "execution_count": 3,
      "outputs": [
        {
          "output_type": "stream",
          "name": "stdout",
          "text": [
            "ADITYA\n"
          ]
        }
      ]
    },
    {
      "cell_type": "code",
      "source": [
        "#2.Write a code to find the length of the string \"Hello World\"\n",
        "str2= \"Hello World\"\n",
        "print(len(str2))\n"
      ],
      "metadata": {
        "colab": {
          "base_uri": "https://localhost:8080/"
        },
        "id": "Z96YHKJGMao_",
        "outputId": "978fe9ab-4296-4f5e-8c35-1da5d01e360b"
      },
      "execution_count": 4,
      "outputs": [
        {
          "output_type": "stream",
          "name": "stdout",
          "text": [
            "11\n"
          ]
        }
      ]
    },
    {
      "cell_type": "code",
      "source": [
        "#3.Write a code to slice the first 3 characters from the starting \"Python Programming\"\n",
        "str3= \"python programming\"\n",
        "print (str3[:3])"
      ],
      "metadata": {
        "colab": {
          "base_uri": "https://localhost:8080/"
        },
        "id": "nw_IhyBSMg73",
        "outputId": "f3f0e1aa-315f-490c-b198-2c405bb3a63a"
      },
      "execution_count": 7,
      "outputs": [
        {
          "output_type": "stream",
          "name": "stdout",
          "text": [
            "pyt\n"
          ]
        }
      ]
    },
    {
      "cell_type": "code",
      "source": [
        "#4.Write a code to convert the string \"hello\" to uppercase.\n",
        "str4=\"hello\"\n",
        "str4.upper()\n"
      ],
      "metadata": {
        "colab": {
          "base_uri": "https://localhost:8080/",
          "height": 36
        },
        "id": "Lvayeg6AMsg4",
        "outputId": "88aad940-ceac-430c-ce70-310721467197"
      },
      "execution_count": 9,
      "outputs": [
        {
          "output_type": "execute_result",
          "data": {
            "text/plain": [
              "'HELLO'"
            ],
            "application/vnd.google.colaboratory.intrinsic+json": {
              "type": "string"
            }
          },
          "metadata": {},
          "execution_count": 9
        }
      ]
    },
    {
      "cell_type": "code",
      "source": [
        "#5.Write a code to replace the word \"apple\" with \"orange\" in the string \"I like apple\"\n",
        "str5= \"I like apple\"\n",
        "str5.replace(\"apple\",\"orange\")"
      ],
      "metadata": {
        "colab": {
          "base_uri": "https://localhost:8080/",
          "height": 36
        },
        "id": "VnkVOvhkNmAD",
        "outputId": "4172c7a7-125e-4d43-b79f-94b67d36e69c"
      },
      "execution_count": 11,
      "outputs": [
        {
          "output_type": "execute_result",
          "data": {
            "text/plain": [
              "'I like orange'"
            ],
            "application/vnd.google.colaboratory.intrinsic+json": {
              "type": "string"
            }
          },
          "metadata": {},
          "execution_count": 11
        }
      ]
    },
    {
      "cell_type": "code",
      "source": [
        "#6.Write a code to create a list with numbers 1 to 5 and print it.\n",
        "list1 = [1,2,3,4,5]\n",
        "print(list1)"
      ],
      "metadata": {
        "colab": {
          "base_uri": "https://localhost:8080/"
        },
        "id": "r5euN1aUN68m",
        "outputId": "723c329f-28c3-45b4-8baf-8de82957b1ed"
      },
      "execution_count": 14,
      "outputs": [
        {
          "output_type": "stream",
          "name": "stdout",
          "text": [
            "[1, 2, 3, 4, 5]\n"
          ]
        }
      ]
    },
    {
      "cell_type": "code",
      "source": [
        "#7. Write a code to append the number 10 to the list [1, 2, 3, 4]\n",
        "list2=[1,2,3,4]\n",
        "list2.append(10)\n",
        "print(list2)"
      ],
      "metadata": {
        "colab": {
          "base_uri": "https://localhost:8080/"
        },
        "id": "Rsj322w8OSLp",
        "outputId": "3d092a15-3150-4a41-e1a9-ef0ab5adc8a1"
      },
      "execution_count": 35,
      "outputs": [
        {
          "output_type": "stream",
          "name": "stdout",
          "text": [
            "[1, 2, 3, 4, 10]\n"
          ]
        }
      ]
    },
    {
      "cell_type": "code",
      "source": [
        "#8.Write a code to remove the number 3 from the list [1, 2, 3, 4, 5].\n",
        "list3=[1,2,3,4,5]\n",
        "list3.remove(3)\n",
        "print(list3)"
      ],
      "metadata": {
        "colab": {
          "base_uri": "https://localhost:8080/"
        },
        "id": "s1NJ4LAsOp2m",
        "outputId": "a45849cc-11c5-44df-9e46-70985bf7c4f6"
      },
      "execution_count": 18,
      "outputs": [
        {
          "output_type": "stream",
          "name": "stdout",
          "text": [
            "[1, 2, 4, 5]\n"
          ]
        }
      ]
    },
    {
      "cell_type": "code",
      "source": [
        "#9. Write a code to access the second element in the list ['a', 'b', 'c', 'd'].\n",
        "list4=['a','b','c','d']\n",
        "print(list4[1])\n"
      ],
      "metadata": {
        "colab": {
          "base_uri": "https://localhost:8080/"
        },
        "id": "zFWi9v9gPUO4",
        "outputId": "2dc935a8-392e-455c-8392-20cc7c357257"
      },
      "execution_count": 19,
      "outputs": [
        {
          "output_type": "stream",
          "name": "stdout",
          "text": [
            "b\n"
          ]
        }
      ]
    },
    {
      "cell_type": "code",
      "source": [
        "#10.Write a code to reverse the list [10, 20, 30, 40, 50].\n",
        "list5= [10, 20, 30, 40, 50]\n",
        "list5.reverse()\n",
        "print(list5)"
      ],
      "metadata": {
        "colab": {
          "base_uri": "https://localhost:8080/"
        },
        "id": "JCUeJIypPzHr",
        "outputId": "9cbe35e5-7a47-4a04-f00f-b7a439aeaba8"
      },
      "execution_count": 25,
      "outputs": [
        {
          "output_type": "stream",
          "name": "stdout",
          "text": [
            "[50, 40, 30, 20, 10]\n"
          ]
        }
      ]
    },
    {
      "cell_type": "code",
      "source": [
        "#11. Write a code to create a tuple with the elements 100, 200, 300 and print it.\n",
        "tup=(100,200,300)\n",
        "print(tup)"
      ],
      "metadata": {
        "colab": {
          "base_uri": "https://localhost:8080/"
        },
        "id": "ID_YevtRQRvM",
        "outputId": "3e1a03e7-77ef-4af4-91dd-ed42c7fcbcbe"
      },
      "execution_count": 27,
      "outputs": [
        {
          "output_type": "stream",
          "name": "stdout",
          "text": [
            "(100, 200, 300)\n"
          ]
        }
      ]
    },
    {
      "cell_type": "code",
      "source": [
        "#12. Write a code to access the second-to-last element of the tuple ('red', 'green', 'blue', 'yellow')\n",
        "tup1=('red', 'green', 'blue', 'yellow')\n",
        "print(tup1[-2])"
      ],
      "metadata": {
        "colab": {
          "base_uri": "https://localhost:8080/"
        },
        "id": "KtMqKpu8QjJC",
        "outputId": "9bf52a56-baf6-44d2-a710-d598a0706d80"
      },
      "execution_count": 29,
      "outputs": [
        {
          "output_type": "stream",
          "name": "stdout",
          "text": [
            "blue\n"
          ]
        }
      ]
    },
    {
      "cell_type": "code",
      "source": [
        "#13. Write a code to find the minimum number in the tuple (10, 20, 5, 15).\n",
        "tup2= (10, 20, 5, 15)\n",
        "print(min(tup2))\n"
      ],
      "metadata": {
        "colab": {
          "base_uri": "https://localhost:8080/"
        },
        "id": "xd4Fg9RgRQ_P",
        "outputId": "7e44484e-bf27-46b1-f390-3c8baa192557"
      },
      "execution_count": 33,
      "outputs": [
        {
          "output_type": "stream",
          "name": "stdout",
          "text": [
            "5\n"
          ]
        }
      ]
    },
    {
      "cell_type": "code",
      "source": [],
      "metadata": {
        "id": "mSbnD_T1T8kL"
      },
      "execution_count": null,
      "outputs": []
    },
    {
      "cell_type": "code",
      "source": [
        "#14. Write a code to find the index of the element \"cat\" in the tuple ('dog', 'cat', 'rabbit').\n",
        "tup3=('dog', 'cat', 'rabbit')\n",
        "tup3.index(\"cat\")"
      ],
      "metadata": {
        "colab": {
          "base_uri": "https://localhost:8080/"
        },
        "id": "73cq6RigSuOa",
        "outputId": "d9ae692a-7041-451a-9f4c-9bafc3671c56"
      },
      "execution_count": 36,
      "outputs": [
        {
          "output_type": "stream",
          "name": "stdout",
          "text": [
            "1\n"
          ]
        }
      ]
    },
    {
      "cell_type": "code",
      "source": [
        "#15. Write a code to create a tuple containing three different fruits and check if \"kiwi\" is in it.\n",
        "tup4=(\"apple\",\"kiwi\",\"watermelon\")\n",
        "if \"kiwi\" in tup4:\n",
        "    print(\"kiwi is in the tuple\")\n",
        "else:\n",
        "    print(\"kiwi is not in the tuple\")\n"
      ],
      "metadata": {
        "colab": {
          "base_uri": "https://localhost:8080/"
        },
        "id": "MZY878YtTVos",
        "outputId": "528b185c-0627-4899-b4ff-e7ad3a31ce9f"
      },
      "execution_count": 40,
      "outputs": [
        {
          "output_type": "stream",
          "name": "stdout",
          "text": [
            "kiwi is in the tuple\n"
          ]
        }
      ]
    },
    {
      "cell_type": "code",
      "source": [
        "#16. Write a code to create a set with the elements 'a', 'b', 'c' and print it.\n",
        "set1={\"a\",\"b\",\"c\"}\n",
        "print(set1)"
      ],
      "metadata": {
        "colab": {
          "base_uri": "https://localhost:8080/"
        },
        "id": "ylqJW-6iUVqk",
        "outputId": "3e9d5eb8-2ad7-432c-f816-a04d69b091f6"
      },
      "execution_count": 43,
      "outputs": [
        {
          "output_type": "stream",
          "name": "stdout",
          "text": [
            "{'a', 'b', 'c'}\n"
          ]
        }
      ]
    },
    {
      "cell_type": "code",
      "source": [
        "#17. Write a code to clear all elements from the set {1, 2, 3, 4, 5}.\n",
        "set2 = {1, 2, 3, 4, 5}\n",
        "set2.clear()\n",
        "print(set2)\n"
      ],
      "metadata": {
        "colab": {
          "base_uri": "https://localhost:8080/"
        },
        "id": "a9PwqQXKUrzl",
        "outputId": "65a85959-231d-4f6b-a9d2-178590b447c5"
      },
      "execution_count": 46,
      "outputs": [
        {
          "output_type": "stream",
          "name": "stdout",
          "text": [
            "set()\n"
          ]
        }
      ]
    },
    {
      "cell_type": "code",
      "source": [
        "#18. Write a code to remove the element 4 from the set {1, 2, 3, 4}.\n",
        "set3= {1, 2, 3, 4}\n",
        "set3.remove(4)\n",
        "print(set3)\n"
      ],
      "metadata": {
        "colab": {
          "base_uri": "https://localhost:8080/"
        },
        "id": "qbeyf646VSVU",
        "outputId": "38a500c8-eecb-46a6-ce1b-60ea416a35af"
      },
      "execution_count": 48,
      "outputs": [
        {
          "output_type": "stream",
          "name": "stdout",
          "text": [
            "{1, 2, 3}\n"
          ]
        }
      ]
    },
    {
      "cell_type": "code",
      "source": [
        "#19. Write a code to find the union of two sets {1, 2, 3} and {3, 4, 5}.\n",
        "set4= {1, 2, 3}\n",
        "set5= {3, 4, 5}\n",
        "set4.union(set5)"
      ],
      "metadata": {
        "colab": {
          "base_uri": "https://localhost:8080/"
        },
        "id": "EbLLUuQmWuOQ",
        "outputId": "aec73183-3d55-4133-9fea-ab132828da58"
      },
      "execution_count": 52,
      "outputs": [
        {
          "output_type": "execute_result",
          "data": {
            "text/plain": [
              "{1, 2, 3, 4, 5}"
            ]
          },
          "metadata": {},
          "execution_count": 52
        }
      ]
    },
    {
      "cell_type": "code",
      "source": [
        "#20. Write a code to find the intersection of two sets {1, 2, 3} and {2, 3, 4}.\n",
        "set6= {1, 2, 3}\n",
        "set7= {2, 3, 4}\n",
        "set6.intersection(set7)"
      ],
      "metadata": {
        "colab": {
          "base_uri": "https://localhost:8080/"
        },
        "id": "g1RLYdDfXyM0",
        "outputId": "fa725980-445c-4566-93d9-365e91f46ac3"
      },
      "execution_count": 55,
      "outputs": [
        {
          "output_type": "execute_result",
          "data": {
            "text/plain": [
              "{2, 3}"
            ]
          },
          "metadata": {},
          "execution_count": 55
        }
      ]
    },
    {
      "cell_type": "code",
      "source": [
        "#21. Write a code to create a dictionary with the keys \"name\", \"age\", and \"city\", and print it.\n",
        "dec = {\"name\": \"bheem\", \"age\": 12, \"city\": \"dholakpur\"}\n",
        "print(dec)"
      ],
      "metadata": {
        "colab": {
          "base_uri": "https://localhost:8080/"
        },
        "id": "gGg3gH25X-P2",
        "outputId": "7c1d04e7-ace0-4789-ee06-42b946c430a6"
      },
      "execution_count": 57,
      "outputs": [
        {
          "output_type": "stream",
          "name": "stdout",
          "text": [
            "{'name': 'bheem', 'age': 12, 'city': 'dholakpur'}\n"
          ]
        }
      ]
    },
    {
      "cell_type": "code",
      "source": [
        "#22. Write a code to add a new key-value pair \"country\": \"USA\" to the dictionary {'name': 'John', 'age': 25}\n",
        "dec2= {'name': 'John', 'age': 25}\n",
        "dec2[\"country\"]=\"usa\"\n",
        "print(dec2)"
      ],
      "metadata": {
        "colab": {
          "base_uri": "https://localhost:8080/"
        },
        "id": "YaptJDllYVim",
        "outputId": "21179890-c84e-44cd-9e2d-1a774fcea9a6"
      },
      "execution_count": 59,
      "outputs": [
        {
          "output_type": "stream",
          "name": "stdout",
          "text": [
            "{'name': 'John', 'age': 25, 'country': 'usa'}\n"
          ]
        }
      ]
    },
    {
      "cell_type": "code",
      "source": [
        "#23. Write a code to access the value associated with the key \"name\" in the dictionary {'name': 'Alice', 'age': 30}.\n",
        "dec3= {'name': 'Alice', 'age': 30}\n",
        "print(dec3[\"name\"])"
      ],
      "metadata": {
        "colab": {
          "base_uri": "https://localhost:8080/"
        },
        "id": "OIm55gx1Zv3v",
        "outputId": "3dccdbb5-a115-4290-85b5-48ad60c41b88"
      },
      "execution_count": 60,
      "outputs": [
        {
          "output_type": "stream",
          "name": "stdout",
          "text": [
            "Alice\n"
          ]
        }
      ]
    },
    {
      "cell_type": "code",
      "source": [
        "#24. Write a code to remove the key \"age\" from the dictionary {'name': 'Bob', 'age': 22, 'city': 'New York'}.\n",
        "dec5= {'name': 'Bob', 'age': 22, 'city': 'New York'}\n",
        "dec5.pop('age')\n",
        "print(dec5)"
      ],
      "metadata": {
        "colab": {
          "base_uri": "https://localhost:8080/"
        },
        "id": "6Xf5v5PkaBA6",
        "outputId": "972b9d93-5340-44e0-b5e4-ca8eafe255d6"
      },
      "execution_count": 69,
      "outputs": [
        {
          "output_type": "stream",
          "name": "stdout",
          "text": [
            "{'name': 'Bob', 'city': 'New York'}\n"
          ]
        }
      ]
    },
    {
      "cell_type": "code",
      "source": [
        "#25. Write a code to check if the key \"city\" exists in the dictionary {'name': 'Alice', 'city': 'Paris'}.\n",
        "dec4= {'name': 'Alice', 'city': 'Paris'}\n",
        "if \"city\" in dec4:\n",
        "    print(\"city is in the dictionary\")\n",
        "else:\n",
        "    print(\"city is not in the dictionary\")"
      ],
      "metadata": {
        "colab": {
          "base_uri": "https://localhost:8080/"
        },
        "id": "e_r9lJsWbEtv",
        "outputId": "6a4f26a6-eae4-4701-eff8-58ef067603b8"
      },
      "execution_count": 70,
      "outputs": [
        {
          "output_type": "stream",
          "name": "stdout",
          "text": [
            "city is in the dictionary\n"
          ]
        }
      ]
    },
    {
      "cell_type": "code",
      "source": [
        "#26. Write a code to create a list, a tuple, and a dictionary, and print them all.\n",
        "list6= [1,2,3,4]\n",
        "print(list6)\n",
        "tup6=(1,2,3,4)\n",
        "print(tup6)\n",
        "dec6= {\"name\": \"bheem\", \"age\": 12, \"city\": \"dholakpur\"}\n",
        "print(dec6)\n"
      ],
      "metadata": {
        "colab": {
          "base_uri": "https://localhost:8080/"
        },
        "id": "rM8-RccoblAs",
        "outputId": "77a05247-3f2c-40ea-9a7b-9b26d7457fde"
      },
      "execution_count": 72,
      "outputs": [
        {
          "output_type": "stream",
          "name": "stdout",
          "text": [
            "[1, 2, 3, 4]\n",
            "(1, 2, 3, 4)\n",
            "{'name': 'bheem', 'age': 12, 'city': 'dholakpur'}\n"
          ]
        }
      ]
    },
    {
      "cell_type": "code",
      "source": [
        "#27. Write a code to create a list of 5 random numbers between 1 and 100, sort it in ascending order, and print the result.(replaced)\n",
        "list7= [55,45,5,99,67]\n",
        "list7.sort()\n",
        "print(list7)"
      ],
      "metadata": {
        "colab": {
          "base_uri": "https://localhost:8080/"
        },
        "id": "YSNdt-xOcA5x",
        "outputId": "057fa449-0ac9-4206-bd8f-0e8aa22d1646"
      },
      "execution_count": 76,
      "outputs": [
        {
          "output_type": "stream",
          "name": "stdout",
          "text": [
            "[5, 45, 55, 67, 99]\n"
          ]
        }
      ]
    },
    {
      "cell_type": "code",
      "source": [
        "#28. Write a code to create a list with strings and print the element at the third index\n",
        "list8= [\"india\",\"srilanka\",\"nepal\"]\n",
        "print(list8[2])\n"
      ],
      "metadata": {
        "colab": {
          "base_uri": "https://localhost:8080/"
        },
        "id": "G2ey_fH9eR2V",
        "outputId": "174f1aa3-ad2e-4fe5-bf00-0729f77da0eb"
      },
      "execution_count": 78,
      "outputs": [
        {
          "output_type": "stream",
          "name": "stdout",
          "text": [
            "nepal\n"
          ]
        }
      ]
    },
    {
      "cell_type": "code",
      "source": [
        "#29. Write a code to combine two dictionaries into one and print the result.\n",
        "dec7= {\"name\": \"iron man \", \"age\": 27 }\n",
        "dec8= {\"work\": \"driver\",\"city\": \"newyork\"}\n",
        "combined_dict = dec7 | dec8\n",
        "print(combined_dict)"
      ],
      "metadata": {
        "colab": {
          "base_uri": "https://localhost:8080/"
        },
        "id": "ODBEJ8zser_M",
        "outputId": "9e79817d-f94f-40c4-8d13-3d3927e9a91f"
      },
      "execution_count": 90,
      "outputs": [
        {
          "output_type": "stream",
          "name": "stdout",
          "text": [
            "{'name': 'iron man ', 'age': 27, 'work': 'driver', 'city': 'usa'}\n"
          ]
        }
      ]
    },
    {
      "cell_type": "code",
      "source": [
        "#30. Write a code to convert a list of strings into a set.\n",
        "list30= [\"end\",\"the\",\"assignment\"]\n",
        "list30 = set(list30)\n",
        "type(list30)"
      ],
      "metadata": {
        "colab": {
          "base_uri": "https://localhost:8080/"
        },
        "id": "z8oTlXK-fX4v",
        "outputId": "d048aa4f-a7ab-40c5-9c1b-b14fe71169cd"
      },
      "execution_count": 100,
      "outputs": [
        {
          "output_type": "execute_result",
          "data": {
            "text/plain": [
              "set"
            ]
          },
          "metadata": {},
          "execution_count": 100
        }
      ]
    },
    {
      "cell_type": "code",
      "source": [
        "\n"
      ],
      "metadata": {
        "id": "pts-cWe-h2tL"
      },
      "execution_count": null,
      "outputs": []
    }
  ]
}